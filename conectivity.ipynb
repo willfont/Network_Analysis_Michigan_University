{
 "cells": [
  {
   "cell_type": "markdown",
   "metadata": {},
   "source": [
    "# Connectivity\n",
    "\n",
    "### Triad Closure (Clustering)\n",
    "- measures the degree to which nodes in a network tend to 'Cluster' of form triangles"
   ]
  },
  {
   "cell_type": "markdown",
   "metadata": {},
   "source": [
    "- Local clustering coefficient of a node\n",
    "  - Fraction of pairs of the node's friends that are friends with each other"
   ]
  },
  {
   "cell_type": "code",
   "execution_count": 48,
   "metadata": {},
   "outputs": [
    {
     "name": "stdout",
     "output_type": "stream",
     "text": [
      "Local clustering coefficient of node F: 0.3333333333333333\n",
      "Local clustering coefficient of node A: 1.0\n",
      "Local clustering coefficient of node J: 0\n"
     ]
    },
    {
     "data": {
      "image/png": "[encoded data removed]",
      "text/plain": [
       "<Figure size 432x288 with 1 Axes>"
      ]
     },
     "metadata": {},
     "output_type": "display_data"
    }
   ],
   "source": [
    "import networkx as nx\n",
    "\n",
    "G = nx.Graph()\n",
    "G.add_edges_from([('A', 'K'), ('A', 'B'), ('B', 'C'), ('B', 'K'),\n",
    "('C', 'E'), ('C', 'F'), ('D', 'E'), ('E', 'F'), ('E', 'H'),('E', 'I'), ('F', 'G'), ('I', 'J')])\n",
    "\n",
    "print('Local clustering coefficient of node F: {}'.format(nx.clustering(G, 'F')))\n",
    "print('Local clustering coefficient of node A: {}'.format(nx.clustering(G, 'A')))\n",
    "print('Local clustering coefficient of node J: {}'.format(nx.clustering(G, 'J')))\n",
    "\n",
    "nx.draw_networkx(G, with_labels=True)"
   ]
  },
  {
   "cell_type": "markdown",
   "metadata": {},
   "source": [
    "- Global Clustering coefficient:\n",
    "  - Approach 1 - Average local clustering coefficient over all nodes\n",
    "  - Approach 2 - Percentage of open triads that are triangles in a network (`Transitivity`):\n",
    "    - 3*Number of closed triads\n",
    "      /Number of open triads"
   ]
  },
  {
   "cell_type": "code",
   "execution_count": 49,
   "metadata": {},
   "outputs": [
    {
     "name": "stdout",
     "output_type": "stream",
     "text": [
      "Global clustering coefficient by Approach 1: 0.28181818181818186\n",
      "Global clustering coefficient by Approach 2 (or Transitivity): 0.2727272727272727\n"
     ]
    }
   ],
   "source": [
    "nx.average_clustering(G)\n",
    "print('Global clustering coefficient by Approach 1: {}'.format(nx.average_clustering(G)))\n",
    "print('Global clustering coefficient by Approach 2 (or Transitivity): {}'.format(nx.transitivity(G)))"
   ]
  },
  {
   "cell_type": "markdown",
   "metadata": {},
   "source": [
    "Transitivity penalize nodes with largest degree"
   ]
  },
  {
   "cell_type": "markdown",
   "metadata": {},
   "source": [
    "### Distance measures\n",
    "\n",
    "- How far a node is for another?\n",
    "- Are nodes far away or close to each other?\n",
    "- Which nodes are 'closest' and 'farthest' to other nodes?"
   ]
  },
  {
   "cell_type": "markdown",
   "metadata": {},
   "source": [
    "The distance between two nodes is the shortest path"
   ]
  },
  {
   "cell_type": "code",
   "execution_count": 50,
   "metadata": {},
   "outputs": [
    {
     "data": {
      "text/plain": [
       "['A', 'B', 'C', 'E', 'H']"
      ]
     },
     "metadata": {},
     "output_type": "display_data"
    },
    {
     "data": {
      "text/plain": [
       "4"
      ]
     },
     "metadata": {},
     "output_type": "display_data"
    }
   ],
   "source": [
    "display(\n",
    "    nx.shortest_path(G, 'A', 'H'),\n",
    "    nx.shortest_path_length(G, 'A', 'H'))"
   ]
  },
  {
   "cell_type": "markdown",
   "metadata": {},
   "source": [
    "Find distance from node A to every other node\n",
    "- `Breadth-First Search`: A systematic and efficient procedure for computing distances from a node to all other nodes in a large network by \"discoverying\" nodes in layers\n",
    "  - Build a Distance Tree"
   ]
  },
  {
   "cell_type": "code",
   "execution_count": 51,
   "metadata": {},
   "outputs": [
    {
     "name": "stdout",
     "output_type": "stream",
     "text": [
      "[('A', 'K'), ('A', 'B'), ('B', 'C'), ('C', 'E'), ('C', 'F'), ('E', 'D'), ('E', 'H'), ('E', 'I'), ('F', 'G'), ('I', 'J')]\n",
      "All the distances from node A: {'A': 0, 'B': 1, 'K': 1, 'C': 2, 'E': 3, 'F': 3, 'D': 4, 'G': 4, 'H': 4, 'I': 4, 'J': 5}\n"
     ]
    }
   ],
   "source": [
    "T = nx.bfs_tree(G, 'A')\n",
    "print(T.edges())\n",
    "print('All the distances from node A: {}'.format(nx.shortest_path_length(G, 'A')))"
   ]
  },
  {
   "cell_type": "markdown",
   "metadata": {},
   "source": [
    "How to characterize the distance between all pairs of nodes in a graph?"
   ]
  },
  {
   "cell_type": "markdown",
   "metadata": {},
   "source": [
    "- `Average distance` between pair of nodes"
   ]
  },
  {
   "cell_type": "code",
   "execution_count": 52,
   "metadata": {},
   "outputs": [
    {
     "name": "stdout",
     "output_type": "stream",
     "text": [
      "They are 0.6545454545454545 distant for each other\n"
     ]
    }
   ],
   "source": [
    "print('They are {} distant for each other'.format(nx.average_shortest_path_length(T)))"
   ]
  },
  {
   "cell_type": "markdown",
   "metadata": {},
   "source": [
    "- `Diameter` are the maximum distance between any pair of nodes"
   ]
  },
  {
   "cell_type": "code",
   "execution_count": 53,
   "metadata": {},
   "outputs": [
    {
     "data": {
      "text/plain": [
       "<generator object connected_components at 0x00000260554EC7B0>"
      ]
     },
     "execution_count": 53,
     "metadata": {},
     "output_type": "execute_result"
    }
   ],
   "source": [
    "nx.connected_components(G)"
   ]
  },
  {
   "cell_type": "code",
   "execution_count": 57,
   "metadata": {},
   "outputs": [
    {
     "data": {
      "text/plain": [
       "5"
      ]
     },
     "execution_count": 57,
     "metadata": {},
     "output_type": "execute_result"
    }
   ],
   "source": [
    "nx.diameter(G)"
   ]
  },
  {
   "cell_type": "markdown",
   "metadata": {},
   "source": [
    "- `eccentricity` of a node 'n' is the largest distance between 'n' and all other nodes\n",
    "  - `radius` is the minimum eccentricity"
   ]
  },
  {
   "cell_type": "code",
   "execution_count": 58,
   "metadata": {},
   "outputs": [
    {
     "data": {
      "text/plain": [
       "{'A': 5,\n",
       " 'K': 5,\n",
       " 'B': 4,\n",
       " 'C': 3,\n",
       " 'E': 3,\n",
       " 'F': 3,\n",
       " 'D': 4,\n",
       " 'H': 4,\n",
       " 'I': 4,\n",
       " 'G': 4,\n",
       " 'J': 5}"
      ]
     },
     "metadata": {},
     "output_type": "display_data"
    },
    {
     "data": {
      "text/plain": [
       "3"
      ]
     },
     "metadata": {},
     "output_type": "display_data"
    }
   ],
   "source": [
    "display(\n",
    "    nx.eccentricity(G),\n",
    "    nx.radius(G))"
   ]
  },
  {
   "cell_type": "markdown",
   "metadata": {},
   "source": [
    "- `Perifery` of a Graph is the set of nodes that have eccentricity equal to Diameter"
   ]
  },
  {
   "cell_type": "code",
   "execution_count": 59,
   "metadata": {},
   "outputs": [
    {
     "name": "stdout",
     "output_type": "stream",
     "text": [
      "Which nodes are the farthest ones?\n",
      "['A', 'K', 'J']\n"
     ]
    }
   ],
   "source": [
    "print('Which nodes are the farthest ones?')\n",
    "print(nx.periphery(G))"
   ]
  },
  {
   "cell_type": "markdown",
   "metadata": {},
   "source": [
    "- `Center` of a graph is the set of nodes that have eccentricity equal to radius "
   ]
  },
  {
   "cell_type": "code",
   "execution_count": 60,
   "metadata": {},
   "outputs": [
    {
     "data": {
      "text/plain": [
       "['C', 'E', 'F']"
      ]
     },
     "execution_count": 60,
     "metadata": {},
     "output_type": "execute_result"
    }
   ],
   "source": [
    "nx.center(G)"
   ]
  },
  {
   "cell_type": "markdown",
   "metadata": {},
   "source": [
    "karate club friendship"
   ]
  },
  {
   "cell_type": "code",
   "execution_count": 66,
   "metadata": {},
   "outputs": [
    {
     "data": {
      "image/png": "[encoded data removed]",
      "text/plain": [
       "<Figure size 432x288 with 1 Axes>"
      ]
     },
     "metadata": {},
     "output_type": "display_data"
    }
   ],
   "source": [
    "K = nx.karate_club_graph()\n",
    "k = nx.convert_node_labels_to_integers(K, first_label=1)\n",
    "nx.draw_networkx(K)"
   ]
  },
  {
   "cell_type": "markdown",
   "metadata": {},
   "source": [
    "## Connected Components\n",
    "\n",
    "- Is a subset of nodes such as:\n",
    "  1. Every node in the subset has a path to every other node\n",
    "  2. No other node has a path to any node in the subset "
   ]
  },
  {
   "cell_type": "code",
   "execution_count": 69,
   "metadata": {},
   "outputs": [
    {
     "data": {
      "image/png": "[encoded data removed]",
      "text/plain": [
       "<Figure size 432x288 with 1 Axes>"
      ]
     },
     "metadata": {},
     "output_type": "display_data"
    }
   ],
   "source": [
    "G = nx.Graph([('A','B'),('A','C'),('A','D'),('A','E'),('B','C'),('B','D'),('B','E'),('C','D'),\n",
    "            ('F','G'),('F','H'),('F','I'),('F','J'),('G','H'),('G','J'),('H','I'),('H','J'),\n",
    "            ('K','L'),('K','O'),('K','M'),('K','N'),('L','M'),('L','O'),('N','O')])\n",
    "\n",
    "nx.draw_networkx(G)"
   ]
  },
  {
   "cell_type": "code",
   "execution_count": 74,
   "metadata": {},
   "outputs": [
    {
     "name": "stdout",
     "output_type": "stream",
     "text": [
      "How many connected componet has the graph? 3\n",
      "Which one are the connected components? [{'C', 'D', 'A', 'B', 'E'}, {'G', 'H', 'J', 'I', 'F'}, {'O', 'K', 'M', 'N', 'L'}]\n",
      "The M node integrate which connected component? {'O', 'K', 'M', 'N', 'L'}\n"
     ]
    },
    {
     "data": {
      "text/plain": [
       "None"
      ]
     },
     "metadata": {},
     "output_type": "display_data"
    },
    {
     "data": {
      "text/plain": [
       "None"
      ]
     },
     "metadata": {},
     "output_type": "display_data"
    },
    {
     "data": {
      "text/plain": [
       "None"
      ]
     },
     "metadata": {},
     "output_type": "display_data"
    }
   ],
   "source": [
    "display(\n",
    "    print('How many connected componet has the graph? {}'.format(nx.number_connected_components(G))),\n",
    "    print('Which one are the connected components? {}'.format(sorted(nx.connected_components(G)))),\n",
    "    print('The M node integrate which connected component? {}'.format(nx.node_connected_component(G, 'M')))\n",
    ")"
   ]
  },
  {
   "cell_type": "markdown",
   "metadata": {},
   "source": [
    "### Connectivity in Direct Graphs\n",
    "\n",
    "1. Directed graph is Strongly connected if, for every pair of nodes 'u' and 'v', there is a directed path from 'u' to 'v' and a directed path from 'v' to 'u'\n",
    "\n",
    "- use:\n",
    "`nx.is_strongly_connected(G)`\n",
    "\n",
    "2. A Directed graph is Weakly connected if replacing all directed edges with undirected edges produces a connected undirected Graph\n",
    "\n",
    "- use:\n",
    "`nx.is_weakly_connected(G)`\n",
    "\n",
    "To find the strongly connected nodes, use:\n",
    "- `sorted(nx.strongly_connected_components(G))`"
   ]
  },
  {
   "cell_type": "markdown",
   "metadata": {},
   "source": [
    "## Connectivity and Robustness in Networks\n",
    "\n",
    "- Robustness: The ability of network maintain its general structural properties when it faces failures or attacks"
   ]
  },
  {
   "cell_type": "markdown",
   "metadata": {},
   "source": [
    "What is the smallest number of nodes that can be removed in order to disconnect a graph?\n",
    "\n",
    "- use: `nx.node_connectivity(G)`\n",
    "\n",
    "which node?\n",
    "\n",
    "- use: `nx.minimum_node_cut(G)`\n",
    "\n",
    "What is the smallest number of nodes that can be removed in order to disconnect a graph?\n",
    "\n",
    "- use: `nx.edge_connectivity(G)`\n",
    "\n",
    "which edges?\n",
    "\n",
    "- use: `nx.minimum_edge_cut(G)`\n",
    "\n",
    "Robust networks have large minimum node and edge cuts"
   ]
  },
  {
   "cell_type": "markdown",
   "metadata": {},
   "source": [
    "### For direct networks\n",
    "\n",
    "What the options that a node 'n' have to reach a node 'p' ?\n",
    "\n",
    "- use: `sorted(nx.all_simples_path(G, 'n', 'p'))`\n",
    "\n",
    "if we want to block a interaction between node 'n' and 'p' by removing nodes, how many nodes would we need to remove?\n",
    "\n",
    "- use: `nx.node_connectivity(G,'n','p')`\n",
    "\n",
    "which one?\n",
    "\n",
    "- use: `nx.minimum_node_cut(G, 'n', 'p')`"
   ]
  },
  {
   "cell_type": "code",
   "execution_count": 77,
   "metadata": {},
   "outputs": [
    {
     "data": {
      "text/plain": [
       "None"
      ]
     },
     "metadata": {},
     "output_type": "display_data"
    },
    {
     "data": {
      "text/plain": [
       "0.7"
      ]
     },
     "metadata": {},
     "output_type": "display_data"
    },
    {
     "data": {
      "image/png": "[encoded data removed]",
      "text/plain": [
       "<Figure size 432x288 with 1 Axes>"
      ]
     },
     "metadata": {},
     "output_type": "display_data"
    }
   ],
   "source": [
    "G = nx.Graph([('A','B'),('A','E'),('A','F'),('A','C'),('A','D'),('B','C'),('B','F'),('C','D'),('C','F'),\n",
    "('D','F'),('D','E'),('E','F')])\n",
    "\n",
    "display(\n",
    "nx.draw_networkx(G),\n",
    "nx.clustering(G, 'F')\n",
    ")"
   ]
  },
  {
   "cell_type": "code",
   "execution_count": 90,
   "metadata": {},
   "outputs": [
    {
     "data": {
      "text/plain": [
       "None"
      ]
     },
     "metadata": {},
     "output_type": "display_data"
    },
    {
     "data": {
      "text/plain": [
       "2"
      ]
     },
     "metadata": {},
     "output_type": "display_data"
    },
    {
     "data": {
      "text/plain": [
       "4"
      ]
     },
     "metadata": {},
     "output_type": "display_data"
    },
    {
     "data": {
      "text/plain": [
       "['D', 'E']"
      ]
     },
     "metadata": {},
     "output_type": "display_data"
    },
    {
     "data": {
      "text/plain": [
       "['A', 'F']"
      ]
     },
     "metadata": {},
     "output_type": "display_data"
    },
    {
     "data": {
      "text/plain": [
       "3"
      ]
     },
     "metadata": {},
     "output_type": "display_data"
    },
    {
     "data": {
      "image/png": "[encoded data removed]",
      "text/plain": [
       "<Figure size 432x288 with 1 Axes>"
      ]
     },
     "metadata": {},
     "output_type": "display_data"
    }
   ],
   "source": [
    "G = nx.Graph([('A','B'),('A','C'),('B','D'),('C','D'),('C','E'),\n",
    "('D','E'),('D','G'),('E','G'),('G','F')])\n",
    "T = nx.bfs_tree(G, 'A')\n",
    "display(\n",
    "nx.draw_networkx(G),\n",
    "nx.radius(G),\n",
    "nx.diameter(G),\n",
    "nx.center(G),\n",
    "nx.periphery(G),\n",
    "nx.eccentricity(G, 'C')\n",
    ")"
   ]
  },
  {
   "cell_type": "code",
   "execution_count": 92,
   "metadata": {},
   "outputs": [
    {
     "data": {
      "text/plain": [
       "{'A': 0, 'C': 1, 'B': 1, 'E': 2, 'D': 2, 'G': 3, 'F': 4}"
      ]
     },
     "execution_count": 92,
     "metadata": {},
     "output_type": "execute_result"
    }
   ],
   "source": [
    "nx.shortest_path_length(T,'A')"
   ]
  },
  {
   "cell_type": "code",
   "execution_count": 93,
   "metadata": {},
   "outputs": [
    {
     "data": {
      "text/plain": [
       "False"
      ]
     },
     "metadata": {},
     "output_type": "display_data"
    },
    {
     "data": {
      "text/plain": [
       "True"
      ]
     },
     "metadata": {},
     "output_type": "display_data"
    },
    {
     "data": {
      "text/plain": [
       "False"
      ]
     },
     "metadata": {},
     "output_type": "display_data"
    }
   ],
   "source": [
    "A = nx.DiGraph([('A', 'B'),('A', 'C'),('C', 'B'),('B', 'C'),('D', 'C'),('E', 'B')])\n",
    "B = nx.DiGraph([('A', 'B'),('B', 'A'),('B', 'C'),('A', 'C'),('C', 'A'),('A', 'D'),('D', 'E'),('E', 'C')])\n",
    "C = nx.DiGraph([('B', 'A'),('A', 'C'),('C', 'B'),('A', 'D')])\n",
    "\n",
    "display(\n",
    "nx.is_strongly_connected(A),\n",
    "nx.is_strongly_connected(B),\n",
    "nx.is_strongly_connected(C)\n",
    ")"
   ]
  },
  {
   "cell_type": "code",
   "execution_count": 95,
   "metadata": {},
   "outputs": [
    {
     "data": {
      "text/plain": [
       "False"
      ]
     },
     "execution_count": 95,
     "metadata": {},
     "output_type": "execute_result"
    }
   ],
   "source": [
    "A.add_edge('C', 'D')\n",
    "nx.is_strongly_connected(A)"
   ]
  }
 ],
 "metadata": {
  "interpreter": {
   "hash": "225624be816c5ebb69535c62bef1c42756c7997d53b988f5d19a3716cb17cbae"
  },
  "kernelspec": {
   "display_name": "Python 3.10.2 64-bit",
   "language": "python",
   "name": "python3"
  },
  "language_info": {
   "codemirror_mode": {
    "name": "ipython",
    "version": 3
   },
   "file_extension": ".py",
   "mimetype": "text/x-python",
   "name": "python",
   "nbconvert_exporter": "python",
   "pygments_lexer": "ipython3",
   "version": "3.10.2"
  },
  "orig_nbformat": 4
 },
 "nbformat": 4,
 "nbformat_minor": 2
}
