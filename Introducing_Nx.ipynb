{
 "cells": [
  {
   "cell_type": "markdown",
   "metadata": {},
   "source": [
    "# Introdução ao NetworkX\n",
    "\n",
    "### Como criar um grafo"
   ]
  },
  {
   "cell_type": "code",
   "execution_count": 3,
   "metadata": {},
   "outputs": [
    {
     "data": {
      "text/plain": [
       "<networkx.classes.graph.Graph at 0x1895bd54f70>"
      ]
     },
     "execution_count": 3,
     "metadata": {},
     "output_type": "execute_result"
    }
   ],
   "source": [
    "import networkx as nx\n",
    "\n",
    "## Creating undirect graph\n",
    "\n",
    "G = nx.Graph()\n",
    "G.add_edge('A', 'B')\n",
    "G.add_edge('B', 'C')\n",
    "\n",
    "## Creating direct graph\n",
    "\n",
    "P = nx.DiGraph()\n",
    "P.add_edge('A', 'B') ## the edge is pointing for A to B\n",
    "P.add_edge('B', 'C') ## the edge is pointing for B to C\n"
   ]
  },
  {
   "cell_type": "markdown",
   "metadata": {},
   "source": [
    "Imagine uma rede representando o número de vez que colegas trabalhos almoçaram juntos \n",
    "- Será uma rede indireta com peso:"
   ]
  },
  {
   "cell_type": "code",
   "execution_count": null,
   "metadata": {},
   "outputs": [],
   "source": [
    "G = nx.Graph()\n",
    "G.add_edge('A', 'B', weight = 6)\n",
    "G.add_edge('B', 'C', weight = 13)"
   ]
  },
  {
   "cell_type": "markdown",
   "metadata": {},
   "source": [
    "Signed Network\n",
    "\n",
    "- Positive or Negative relationships in undirected Networks"
   ]
  },
  {
   "cell_type": "code",
   "execution_count": null,
   "metadata": {},
   "outputs": [],
   "source": [
    "G = nx.Graph()\n",
    "G.add_edge('A', 'B', sign = '+')\n",
    "G.add_edge('B', 'C', sign = '-')"
   ]
  },
  {
   "cell_type": "markdown",
   "metadata": {},
   "source": [
    "Imagine agora que temos uma rede representando relações interpessoais e existem 4 tipos:\n",
    "- Familiar\n",
    "- Coworker\n",
    "- Friend\n",
    "- Neighbor\n",
    "\n",
    "It'll be a undirected network"
   ]
  },
  {
   "cell_type": "code",
   "execution_count": null,
   "metadata": {},
   "outputs": [],
   "source": [
    "G = nx.Graph()\n",
    "G.add_edge('A', 'B', relation = 'Familiar')\n",
    "G.add_edge('B', 'C', relation = 'Friend')"
   ]
  },
  {
   "cell_type": "markdown",
   "metadata": {},
   "source": [
    "### Multigraphs\n",
    "\n",
    "- More than one kind of relationship between nodes"
   ]
  },
  {
   "cell_type": "code",
   "execution_count": null,
   "metadata": {},
   "outputs": [],
   "source": [
    "G = nx.MultiGraph()\n",
    "G.add_edge('A', 'B', relation = 'Familiar')\n",
    "G.add_edge('A', 'B', relation = 'Neighbor')\n",
    "G.add_edge('B', 'C', relation = 'Friend')\n",
    "G.add_edge('B', 'C', relation = 'Coworker')"
   ]
  },
  {
   "cell_type": "markdown",
   "metadata": {},
   "source": [
    "Adicionando multiplos atributos:"
   ]
  },
  {
   "cell_type": "code",
   "execution_count": 37,
   "metadata": {},
   "outputs": [
    {
     "data": {
      "text/plain": [
       "EdgeView([('A', 'B'), ('A', 'C')])"
      ]
     },
     "metadata": {},
     "output_type": "display_data"
    },
    {
     "data": {
      "text/plain": [
       "EdgeDataView([('A', 'B', {'relation': 'Familiar', 'weight': 6}), ('A', 'C', {'relation': 'Neighbor', 'weight': 14})])"
      ]
     },
     "metadata": {},
     "output_type": "display_data"
    },
    {
     "data": {
      "text/plain": [
       "EdgeDataView([('A', 'B', 'Familiar'), ('A', 'C', 'Neighbor')])"
      ]
     },
     "metadata": {},
     "output_type": "display_data"
    },
    {
     "data": {
      "text/plain": [
       "{'relation': 'Familiar', 'weight': 6}"
      ]
     },
     "metadata": {},
     "output_type": "display_data"
    }
   ],
   "source": [
    "G = nx.Graph()\n",
    "G.add_edge('A', 'B', relation = 'Familiar', weight = 6)\n",
    "G.add_edge('A', 'C', relation = 'Neighbor', weight = 14)\n",
    "\n",
    "display(\n",
    "G.edges(), ## cheking list of edges\n",
    "G.edges(data = True), ## Cheking list of edges and their atributes\n",
    "G.edges(data = 'relation'), ## cheking relatioships between nodes\n",
    "G['A']['B'] ## Acessing atributes of a especific edge\n",
    ")\n",
    "\n",
    "### \n"
   ]
  },
  {
   "cell_type": "markdown",
   "metadata": {},
   "source": [
    "- doing the same, but with direct graph"
   ]
  },
  {
   "cell_type": "code",
   "execution_count": 11,
   "metadata": {},
   "outputs": [
    {
     "data": {
      "text/plain": [
       "OutEdgeView([('A', 'B'), ('B', 'A')])"
      ]
     },
     "metadata": {},
     "output_type": "display_data"
    },
    {
     "data": {
      "text/plain": [
       "OutEdgeDataView([('A', 'B', {'relation': 'Familiar', 'weight': 6}), ('B', 'A', {'relation': 'Neighbor', 'weight': 14})])"
      ]
     },
     "metadata": {},
     "output_type": "display_data"
    },
    {
     "data": {
      "text/plain": [
       "OutEdgeDataView([('A', 'B', 'Familiar'), ('B', 'A', 'Neighbor')])"
      ]
     },
     "metadata": {},
     "output_type": "display_data"
    },
    {
     "data": {
      "text/plain": [
       "{'relation': 'Familiar', 'weight': 6}"
      ]
     },
     "metadata": {},
     "output_type": "display_data"
    },
    {
     "data": {
      "text/plain": [
       "{'relation': 'Neighbor', 'weight': 14}"
      ]
     },
     "metadata": {},
     "output_type": "display_data"
    }
   ],
   "source": [
    "G = nx.DiGraph()\n",
    "G.add_edge('A', 'B', relation = 'Familiar', weight = 6)\n",
    "G.add_edge('B', 'A', relation = 'Neighbor', weight = 14)\n",
    "\n",
    "display(\n",
    "G.edges(), ## cheking list of edges\n",
    "G.edges(data = True), ## Cheking list of edges and their atributes\n",
    "G.edges(data = 'relation'), ## cheking relatioships between nodes\n",
    "G['A']['B'], ## Acessing atributes of a especific edge\n",
    "G['B']['A'])"
   ]
  },
  {
   "cell_type": "markdown",
   "metadata": {},
   "source": [
    "- doing the same but to multigraph"
   ]
  },
  {
   "cell_type": "code",
   "execution_count": 40,
   "metadata": {},
   "outputs": [
    {
     "data": {
      "text/plain": [
       "{'relation': 'business partner', 'weight': 14}"
      ]
     },
     "execution_count": 40,
     "metadata": {},
     "output_type": "execute_result"
    }
   ],
   "source": [
    "G.add_edge('A','C', relation = 'business partner')\n",
    "G['A']['C']"
   ]
  },
  {
   "cell_type": "code",
   "execution_count": 12,
   "metadata": {},
   "outputs": [
    {
     "data": {
      "text/plain": [
       "MultiEdgeDataView([('A', 'B'), ('A', 'B'), ('C', 'D'), ('C', 'D')])"
      ]
     },
     "metadata": {},
     "output_type": "display_data"
    },
    {
     "data": {
      "text/plain": [
       "MultiEdgeDataView([('A', 'B', {'relation': 'Familiar', 'weight': 9}), ('A', 'B', {'relation': 'coworker', 'weight': 6}), ('C', 'D', {'relation': 'Neighbor', 'weight': 14}), ('C', 'D', {'relation': 'friend', 'weight': 12})])"
      ]
     },
     "metadata": {},
     "output_type": "display_data"
    },
    {
     "data": {
      "text/plain": [
       "MultiEdgeDataView([('A', 'B', 'Familiar'), ('A', 'B', 'coworker'), ('C', 'D', 'Neighbor'), ('C', 'D', 'friend')])"
      ]
     },
     "metadata": {},
     "output_type": "display_data"
    },
    {
     "data": {
      "text/plain": [
       "AtlasView({0: {'relation': 'Familiar', 'weight': 9}, 1: {'relation': 'coworker', 'weight': 6}})"
      ]
     },
     "metadata": {},
     "output_type": "display_data"
    },
    {
     "data": {
      "text/plain": [
       "AtlasView({0: {'relation': 'Neighbor', 'weight': 14}, 1: {'relation': 'friend', 'weight': 12}})"
      ]
     },
     "metadata": {},
     "output_type": "display_data"
    },
    {
     "data": {
      "text/plain": [
       "9"
      ]
     },
     "metadata": {},
     "output_type": "display_data"
    }
   ],
   "source": [
    "G = nx.MultiGraph()\n",
    "G.add_edge('A', 'B', relation = 'Familiar', weight = 9)\n",
    "G.add_edge('A', 'B', relation = 'coworker', weight = 6)\n",
    "G.add_edge('C', 'D', relation = 'Neighbor', weight = 14)\n",
    "G.add_edge('C', 'D', relation = 'friend', weight = 12)\n",
    "\n",
    "display(\n",
    "G.edges(), ## cheking list of edges\n",
    "G.edges(data = True), ## Cheking list of edges and their atributes\n",
    "G.edges(data = 'relation'), ## cheking relatioships between nodes\n",
    "G['A']['B'], ## Acessing atributes of a especific edge\n",
    "G['C']['D'], ## it will return a dictionary with label 0 and 1\n",
    "\n",
    "G['A']['B'][0]['weight']) ## acessing just the weight of the familiar relationship\n",
    "\n"
   ]
  },
  {
   "cell_type": "markdown",
   "metadata": {},
   "source": [
    "### MultiDigraphs"
   ]
  },
  {
   "cell_type": "code",
   "execution_count": 13,
   "metadata": {},
   "outputs": [
    {
     "ename": "AttributeError",
     "evalue": "'MultiDiGraph' object has no attribute 'edge'",
     "output_type": "error",
     "traceback": [
      "\u001b[1;31m---------------------------------------------------------------------------\u001b[0m",
      "\u001b[1;31mAttributeError\u001b[0m                            Traceback (most recent call last)",
      "\u001b[1;32mc:\\Users\\Danilo\\Desktop\\Documentos Acadêmicos\\Coursera\\NetworkX\\Introducing_Nx.ipynb Cell 18'\u001b[0m in \u001b[0;36m<module>\u001b[1;34m\u001b[0m\n\u001b[0;32m      <a href='vscode-notebook-cell:/c%3A/Users/Danilo/Desktop/Documentos%20Acad%C3%AAmicos/Coursera/NetworkX/Introducing_Nx.ipynb#ch0000017?line=4'>5</a>\u001b[0m G\u001b[39m.\u001b[39madd_edge(\u001b[39m'\u001b[39m\u001b[39mAna\u001b[39m\u001b[39m'\u001b[39m, \u001b[39m'\u001b[39m\u001b[39mBob\u001b[39m\u001b[39m'\u001b[39m, weight\u001b[39m=\u001b[39m \u001b[39m1\u001b[39m, relation \u001b[39m=\u001b[39m \u001b[39m'\u001b[39m\u001b[39mfriends\u001b[39m\u001b[39m'\u001b[39m)\n\u001b[0;32m      <a href='vscode-notebook-cell:/c%3A/Users/Danilo/Desktop/Documentos%20Acad%C3%AAmicos/Coursera/NetworkX/Introducing_Nx.ipynb#ch0000017?line=5'>6</a>\u001b[0m G\u001b[39m.\u001b[39madd_edge(\u001b[39m'\u001b[39m\u001b[39mAna\u001b[39m\u001b[39m'\u001b[39m, \u001b[39m'\u001b[39m\u001b[39mBob\u001b[39m\u001b[39m'\u001b[39m, weight\u001b[39m=\u001b[39m \u001b[39m1\u001b[39m, relation \u001b[39m=\u001b[39m \u001b[39m'\u001b[39m\u001b[39mneighbors\u001b[39m\u001b[39m'\u001b[39m)\n\u001b[1;32m----> <a href='vscode-notebook-cell:/c%3A/Users/Danilo/Desktop/Documentos%20Acad%C3%AAmicos/Coursera/NetworkX/Introducing_Nx.ipynb#ch0000017?line=7'>8</a>\u001b[0m \u001b[39mprint\u001b[39m( G\u001b[39m.\u001b[39;49medge[\u001b[39m'\u001b[39m\u001b[39mBob\u001b[39m\u001b[39m'\u001b[39m][\u001b[39m'\u001b[39m\u001b[39mAna\u001b[39m\u001b[39m'\u001b[39m][\u001b[39m1\u001b[39m][\u001b[39m'\u001b[39m\u001b[39mrelation\u001b[39m\u001b[39m'\u001b[39m] )\n",
      "\u001b[1;31mAttributeError\u001b[0m: 'MultiDiGraph' object has no attribute 'edge'"
     ]
    }
   ],
   "source": [
    "G=nx.MultiDiGraph()\n",
    "\n",
    "G.add_edge('John', 'Ana', weight= 3, relation = 'siblings')\n",
    "G.add_edge('Ana', 'David', weight= 4, relation = 'cousins')\n",
    "G.add_edge('Ana', 'Bob', weight= 1, relation = 'friends')\n",
    "G.add_edge('Ana', 'Bob', weight= 1, relation = 'neighbors')\n",
    "\n",
    "print( G.edge['Bob']['Ana'][1]['relation'] ) ### it will get us error, because there is no relation between them in this direction\n"
   ]
  },
  {
   "cell_type": "markdown",
   "metadata": {},
   "source": [
    "- Adding node Atributes"
   ]
  },
  {
   "cell_type": "code",
   "execution_count": 39,
   "metadata": {},
   "outputs": [
    {
     "data": {
      "text/plain": [
       "NodeDataView({'A': {'role': 'Manager'}, 'B': {}, 'C': {}})"
      ]
     },
     "metadata": {},
     "output_type": "display_data"
    },
    {
     "data": {
      "text/plain": [
       "'Manager'"
      ]
     },
     "metadata": {},
     "output_type": "display_data"
    }
   ],
   "source": [
    "G = nx.Graph()\n",
    "G.add_edge('A', 'B', relation = 'Familiar', weight = 6)\n",
    "G.add_edge('A', 'C', relation = 'Neighbor', weight = 14)\n",
    "\n",
    "G.add_node('A', role = 'Manager')\n",
    "display(\n",
    "G.nodes(data = True), ## getting all nodes\n",
    "G.nodes['A']['role']\n",
    ")"
   ]
  },
  {
   "cell_type": "markdown",
   "metadata": {},
   "source": [
    "### Bipartite Nodes\n",
    "- An edge part of only one set of nodes"
   ]
  },
  {
   "cell_type": "code",
   "execution_count": 24,
   "metadata": {},
   "outputs": [],
   "source": [
    "from networkx.algorithms import bipartite\n",
    "\n",
    "B = nx.Graph()\n",
    "B.add_nodes_from(['A', 'B', 'C', 'D', 'E'], bipartite = 0) ## setting os group of nodes\n",
    "B.add_nodes_from([1,2,3,4], bipartite = 1) ## labelling other group\n",
    "\n",
    "B.add_edges_from([('A',1), ('B',1),('B',2), ('C',1), ('C',4),('D',2), ('E',4), ('E',1)])"
   ]
  },
  {
   "cell_type": "code",
   "execution_count": 26,
   "metadata": {},
   "outputs": [
    {
     "data": {
      "text/plain": [
       "True"
      ]
     },
     "execution_count": 26,
     "metadata": {},
     "output_type": "execute_result"
    }
   ],
   "source": [
    "bipartite.is_bipartite(B)\n",
    "\n",
    "### with you add an relation between 'A' and 'B' (for ex.) it will be no more a bipartite graph"
   ]
  },
  {
   "cell_type": "markdown",
   "metadata": {},
   "source": [
    "### Projected Graphs\n",
    "- L bipartite graphs\n",
    "  - when nodes of L set is connected to the same R node set, they are connected too"
   ]
  },
  {
   "cell_type": "code",
   "execution_count": 30,
   "metadata": {},
   "outputs": [],
   "source": [
    "B = nx.Graph()\n",
    "B.add_edges_from([('A',1),('B',1),('C',1),('D',1),('H',1),('B',2),('C',2),('D',2),('E',2),('G',2),\n",
    "                    ('E',3),('F',3),('H',3),('J',2),('E',4),('I',4),('J',4),])\n",
    "\n",
    "X = set(['A', 'B', 'C', 'D', 'E', 'F', 'G', 'H', 'I', 'J'])\n",
    "\n",
    "P = bipartite.projected_graph(B,X)"
   ]
  },
  {
   "cell_type": "markdown",
   "metadata": {},
   "source": [
    "- setting a weighted projected graph"
   ]
  },
  {
   "cell_type": "code",
   "execution_count": 31,
   "metadata": {},
   "outputs": [],
   "source": [
    "X = set([1,2,3,4])\n",
    "\n",
    "P = bipartite.weighted_projected_graph(B,X)"
   ]
  },
  {
   "cell_type": "markdown",
   "metadata": {},
   "source": [
    "How to read a df network"
   ]
  },
  {
   "cell_type": "code",
   "execution_count": null,
   "metadata": {},
   "outputs": [],
   "source": [
    "G_df = pd.read_csv('G_edgelist.txt', delim_whitespace=True, \n",
    "                   header=None, names=['col1', 'col2', 'weight'])\n",
    "\n",
    "## transformando df pandas em nx graph\n",
    "G5 = nx.from_pandas_dataframe(G_df, 'n1', 'n2', edge_attr='weight')"
   ]
  }
 ],
 "metadata": {
  "interpreter": {
   "hash": "225624be816c5ebb69535c62bef1c42756c7997d53b988f5d19a3716cb17cbae"
  },
  "kernelspec": {
   "display_name": "Python 3.10.2 64-bit",
   "language": "python",
   "name": "python3"
  },
  "language_info": {
   "codemirror_mode": {
    "name": "ipython",
    "version": 3
   },
   "file_extension": ".py",
   "mimetype": "text/x-python",
   "name": "python",
   "nbconvert_exporter": "python",
   "pygments_lexer": "ipython3",
   "version": "3.10.2"
  },
  "orig_nbformat": 4
 },
 "nbformat": 4,
 "nbformat_minor": 2
}
